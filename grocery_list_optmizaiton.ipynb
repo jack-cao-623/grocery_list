{
  "nbformat": 4,
  "nbformat_minor": 0,
  "metadata": {
    "colab": {
      "provenance": [],
      "authorship_tag": "ABX9TyPXfFxWYL7bmihIJ86IQrux",
      "include_colab_link": true
    },
    "kernelspec": {
      "name": "python3",
      "display_name": "Python 3"
    },
    "language_info": {
      "name": "python"
    }
  },
  "cells": [
    {
      "cell_type": "markdown",
      "metadata": {
        "id": "view-in-github",
        "colab_type": "text"
      },
      "source": [
        "<a href=\"https://colab.research.google.com/github/jack-cao-623/grocery_list/blob/main/grocery_list_optmizaiton.ipynb\" target=\"_parent\"><img src=\"https://colab.research.google.com/assets/colab-badge.svg\" alt=\"Open In Colab\"/></a>"
      ]
    },
    {
      "cell_type": "markdown",
      "source": [
        "# Grocery list optmization\n",
        "\n",
        "Goal of this notebook is to output a grocery list to a Google Sheet and streamline how we decide what to buy\n"
      ],
      "metadata": {
        "id": "_5V86j-B6y6D"
      }
    },
    {
      "cell_type": "markdown",
      "source": [
        "## Libraries needed"
      ],
      "metadata": {
        "id": "NvtIopCY7LND"
      }
    },
    {
      "cell_type": "code",
      "source": [
        "import random         # for randomly selecting meals\n",
        "import pandas as pd   # for data wrangling\n",
        "\n",
        "# for writing to google sheet\n",
        "from google.colab import auth\n",
        "import gspread\n",
        "from google.auth import default\n",
        "from google.oauth2.service_account import Credentials\n",
        "from datetime import datetime"
      ],
      "metadata": {
        "id": "XlXMumzf7Auh"
      },
      "execution_count": 1,
      "outputs": []
    },
    {
      "cell_type": "markdown",
      "source": [
        "## \"Other\", i.e., always needed"
      ],
      "metadata": {
        "id": "xLWsZSp97P3e"
      }
    },
    {
      "cell_type": "code",
      "source": [
        "list_other = [\n",
        "    'milk'\n",
        "    , 'eggs'\n",
        "    , 'fruit'\n",
        "    , 'bagels'\n",
        "    , 'cream cheese'\n",
        "    , 'yogurt'\n",
        "    # other things to add here\n",
        "]"
      ],
      "metadata": {
        "id": "_fjYY2vF7Iyz"
      },
      "execution_count": null,
      "outputs": []
    },
    {
      "cell_type": "markdown",
      "source": [
        "## Meals and their ingredients\n",
        "Add new meals in new cell immediately below\n",
        "\n",
        "Try this recipe when it gets cold: https://www.foodandwine.com/recipes/short-rib-ragu-with-orange-parsley-gremolata"
      ],
      "metadata": {
        "id": "M-FCoL5_7jLR"
      }
    },
    {
      "cell_type": "code",
      "source": [
        "list_slow_cooker_red_beans_rice = [\n",
        "    'vegetable oil'\n",
        "    , 'onion'\n",
        "    , 'salt'\n",
        "    , 'pepper'\n",
        "    , 'celery'\n",
        "    , 'green bell pepper'\n",
        "    , 'garlic cloves'\n",
        "    , 'garlic powder'\n",
        "    , 'onion powder'\n",
        "    , 'sweet paprika'\n",
        "    , 'cayenne'\n",
        "    , 'ground sage'\n",
        "    , 'dried red kidney beans'\n",
        "    , 'bay leaves'\n",
        "    , 'thyme'\n",
        "    , '12 oz pork sausage, andouille'\n",
        "    , '10 oz ham hock'\n",
        "    , 'brown rice'\n",
        "    , 'scallions'\n",
        "]\n",
        "\n",
        "# https://cooking.nytimes.com/recipes/1020815-slow-cooker-red-beans-and-rice"
      ],
      "metadata": {
        "id": "pQa1eOfgp7BT"
      },
      "execution_count": null,
      "outputs": []
    },
    {
      "cell_type": "code",
      "source": [
        "list_sheet_pan_feta = [\n",
        "    'good bread'\n",
        "    , 'feta block cheese'\n",
        "    , 'broccoli'\n",
        "    , 'cherry tomatoes'\n",
        "    , 'olive oil'\n",
        "    , 'salt'\n",
        "    , 'pepper'\n",
        "    , 'red onion'\n",
        "    , 'whole wheat grain'\n",
        "    , 'cumin'\n",
        "    , 'lemon'\n",
        "]\n",
        "\n",
        "# https://cooking.nytimes.com/recipes/1021277-sheet-pan-baked-feta-with-broccolini-tomatoes-and-lemon"
      ],
      "metadata": {
        "id": "2JnTF7Jk9yrC"
      },
      "execution_count": null,
      "outputs": []
    },
    {
      "cell_type": "code",
      "source": [
        "list_baked_chicken_thighs = [\n",
        "    'olive oil'\n",
        "    , 'garlic'\n",
        "    , 'chicken thighs'\n",
        "    , 'dijon mustard'\n",
        "    , 'oregano/green seasoning'\n",
        "    , 'salt'\n",
        "    , 'pepper'\n",
        "    , 'lemon'\n",
        "    , 'brown rice or whole wheat pasta'\n",
        "    , 'green veggie like peas'\n",
        "]\n",
        "\n",
        "# https://cooking.nytimes.com/recipes/1024625-baked-chicken-thighs"
      ],
      "metadata": {
        "id": "w_fYJ2Hg9biT"
      },
      "execution_count": null,
      "outputs": []
    },
    {
      "cell_type": "code",
      "source": [
        "list_turkey_chili = [\n",
        "    'ground turkey'\n",
        "    , 'onion'\n",
        "    , 'red bell pepper'\n",
        "    , 'celery'\n",
        "    , 'garlic'\n",
        "    , 'red kidney beans'\n",
        "    , 'oregano'\n",
        "    , 'bay leaves'\n",
        "    , 'chili powder'\n",
        "    , 'cumin'\n",
        "    , '1 can diced tomatoes'\n",
        "    , 'chicken broth'\n",
        "    , 'salt'\n",
        "    , 'pepper'\n",
        "    , 'olive oil'\n",
        "    , 'cheese'\n",
        "    , 'sour cream/yogurt'\n",
        "    , 'salad'\n",
        "    , 'bread'\n",
        "]\n",
        "\n",
        "# https://cooking.nytimes.com/recipes/7985-turkey-chili"
      ],
      "metadata": {
        "id": "zUFFZGXee6e_"
      },
      "execution_count": null,
      "outputs": []
    },
    {
      "cell_type": "code",
      "source": [
        "list_skillet_chicken_tomatoes = [\n",
        "    'chicken thighs'\n",
        "    , 'salt'\n",
        "    , 'pepper'\n",
        "    , 'olive oil'\n",
        "    , 'garlic'\n",
        "    , '28 oz can plum tomatoes'\n",
        "    , 'basil'\n",
        "    , 'mozzarella cheese'\n",
        "    , 'pasta'\n",
        "    , 'broccoli'\n",
        "]\n",
        "\n",
        "# https://cooking.nytimes.com/recipes/1017910-skillet-chicken-with-tomatoes-pancetta-and-mozzarella"
      ],
      "metadata": {
        "id": "L9gXJOJuohuo"
      },
      "execution_count": null,
      "outputs": []
    },
    {
      "cell_type": "code",
      "source": [
        "list_butternut_squash_pasta = [\n",
        "    'pasta'\n",
        "    , 'butternut squash'\n",
        "    , 'olive oil'\n",
        "    , 'salt'\n",
        "    , 'pepper'\n",
        "    , 'cumin'\n",
        "    , 'mozzarella cheese'\n",
        "    , 'parmesan cheese'\n",
        "    , 'spinach'\n",
        "    , 'jalapeno'\n",
        "    , 'italian sausage'\n",
        "    , 'parsley'\n",
        "    , 'chicken broth'\n",
        "]\n",
        "\n",
        "# https://cooking.nytimes.com/recipes/1021535-spicy-butternut-squash-pasta-with-spinach"
      ],
      "metadata": {
        "id": "lC_K3us3wV6b"
      },
      "execution_count": null,
      "outputs": []
    },
    {
      "cell_type": "code",
      "source": [
        "list_hummus = [\n",
        "    'pita'\n",
        "    , 'hummus'\n",
        "    , 'lettuce'\n",
        "    , 'tomato'\n",
        "    , 'red onion'\n",
        "    , 'feta cheese'\n",
        "    , 'greek yogurt'\n",
        "    , 'olive oil'\n",
        "    , 'salt'\n",
        "    , 'pepper'\n",
        "]"
      ],
      "metadata": {
        "id": "FTfe0WaMzMmK"
      },
      "execution_count": null,
      "outputs": []
    },
    {
      "cell_type": "code",
      "source": [
        "list_one_post_pasta_with_ricotta_and_lemon = [\n",
        "    'pasta'\n",
        "    , 'ricotta cheese'\n",
        "    , 'parmesan cheese'\n",
        "    , 'olive oil'\n",
        "    , 'salt'\n",
        "    , 'pepper'\n",
        "    , 'lemon'\n",
        "    , 'red pepper flakes'\n",
        "    , 'basil'\n",
        "    , 'serve with salad and/or chicken nuggets/meatballs'\n",
        "]\n",
        "\n",
        "# https://cooking.nytimes.com/recipes/1020290-one-pot-pasta-with-ricotta-and-lemon"
      ],
      "metadata": {
        "id": "fKBZvr-bFKq_"
      },
      "execution_count": null,
      "outputs": []
    },
    {
      "cell_type": "code",
      "source": [
        "list_pesto_beans = [\n",
        "    'olive oil'\n",
        "    , 'nuts - sliced almonds or pine'\n",
        "    , 'salt'\n",
        "    , 'pepper'\n",
        "    , 'turmeric'\n",
        "    , 'shallots or onion'\n",
        "    , 'garlic'\n",
        "    , '2 cans cannelini or white beans'\n",
        "    , 'chicken or vegetable stock'\n",
        "    , 'parmesan cheese'\n",
        "    , 'basil'\n",
        "    , 'lemon'\n",
        "    , 'good bread or rice'\n",
        "    , 'side salad'\n",
        "]\n",
        "\n",
        "# https://cooking.nytimes.com/recipes/1025675-pesto-beans"
      ],
      "metadata": {
        "id": "T9hMBNkbtuTN"
      },
      "execution_count": null,
      "outputs": []
    },
    {
      "cell_type": "code",
      "source": [
        "list_sesame_noodles_corn_cucumber_basil = [\n",
        "    'salt'\n",
        "    , 'noodles'\n",
        "    , 'cucumbers'\n",
        "    , 'tahini'\n",
        "    , 'sesame oil'\n",
        "    , 'chile crisp'\n",
        "    , 'corn'\n",
        "    , 'sesame seeds'\n",
        "    , 'basil'\n",
        "]\n",
        "\n",
        "# https://cooking.nytimes.com/recipes/1024544-cold-sesame-noodles-with-cucumber-corn-and-basil"
      ],
      "metadata": {
        "id": "oST3_AW6NBmM"
      },
      "execution_count": null,
      "outputs": []
    },
    {
      "cell_type": "code",
      "source": [
        "list_pearl_couscous_salad = [\n",
        "    'chicken breast'\n",
        "    , 'salt'\n",
        "    , 'pepper'\n",
        "    , 'olive oil'\n",
        "    , 'lemon'\n",
        "    , 'pearl couscous'\n",
        "    , 'garlic'\n",
        "    , 'cucumbers'\n",
        "    , 'corn'\n",
        "    , 'feta'\n",
        "    , 'cilantro'\n",
        "    , 'mint'\n",
        "]\n",
        "\n",
        "# https://cooking.nytimes.com/recipes/1025552-pearl-couscous-salad-with-shrimp-and-feta"
      ],
      "metadata": {
        "id": "dgNcY3HGJRci"
      },
      "execution_count": null,
      "outputs": []
    },
    {
      "cell_type": "code",
      "source": [
        "list_lamb_burgers = [\n",
        "    'olive oil'\n",
        "    , 'ground lamb'\n",
        "    , 'salt'\n",
        "    , 'pepper'\n",
        "    , 'various spices'\n",
        "    , 'lemon zest'\n",
        "    , 'lemon juice'\n",
        "    , 'garlic'\n",
        "    , 'tahini'\n",
        "    , 'yogurt'\n",
        "    , 'green onion'\n",
        "    , 'dill'\n",
        "    , 'pita bread'\n",
        "    , 'tomatoes'\n",
        "    , 'avocado'\n",
        "    , 'cilantro'\n",
        "    , 'red bell pepper'\n",
        "]\n",
        "\n",
        "# https://cooking.nytimes.com/recipes/1025475-spicy-lamb-burgers-with-tahini\n",
        "# sauce was too thick\n"
      ],
      "metadata": {
        "id": "DYPTc5XIzmC4"
      },
      "execution_count": null,
      "outputs": []
    },
    {
      "cell_type": "code",
      "source": [
        "  list_honey_glazed_mushroom_udon = [\n",
        "    'udon'\n",
        "    , 'vegetable oil'\n",
        "    , 'mushrooms'\n",
        "    , 'garlic'\n",
        "    , 'honey'\n",
        "    , 'salt'\n",
        "    , 'pepper'\n",
        "    , 'butter'\n",
        "    , 'napa cabbage'\n",
        "    , 'soy sauce'\n",
        "    , 'green onion'\n",
        "    , 'sesame seeds'\n",
        "]\n",
        "\n",
        "# https://cooking.nytimes.com/recipes/1022833-honey-glazed-mushrooms-with-udon#notes_section\n",
        "# see notes for not using too much honey"
      ],
      "metadata": {
        "id": "1KaPVY8EyOZv"
      },
      "execution_count": null,
      "outputs": []
    },
    {
      "cell_type": "code",
      "source": [
        "list_extra_green_pasta_salad = [\n",
        "    'pasta'\n",
        "    , 'sugar snap peas'\n",
        "    , 'english peas'\n",
        "    , 'spinach'\n",
        "    , 'olive oil'\n",
        "    , 'salt'\n",
        "    , 'pepper'\n",
        "    , 'miso'\n",
        "    , 'garlic'\n",
        "    , 'parmesan cheese'\n",
        "]\n",
        "\n",
        "# combine with grilled chicken breast\n",
        "# https://cooking.nytimes.com/recipes/1025507-extra-green-pasta-salad#notes_section\n",
        "# good for summer"
      ],
      "metadata": {
        "id": "21wT9qGgvZrx"
      },
      "execution_count": null,
      "outputs": []
    },
    {
      "cell_type": "code",
      "source": [
        "list_sausage_and_peppers_pasta_with_broccoli = [\n",
        "    'olive_oil'\n",
        "    , '2 yellow peppers'\n",
        "    , 'sweet sausage'\n",
        "    , 'broccoli'\n",
        "    , 'pasta'\n",
        "    , 'garlic'\n",
        "    , 'salt'\n",
        "    , 'pepper'\n",
        "    , 'lemon juice'\n",
        "    , 'parmesan cheese'\n",
        "]\n",
        "\n",
        "# https://cooking.nytimes.com/recipes/1019818-sausage-and-peppers-pasta-with-broccoli\n",
        "# not bad; basic but good\n",
        "# everyday LC skillet too small if using full box of pasta; may have used too much broccoli, but doesn't seem so\n",
        "# not a 1 pot meal"
      ],
      "metadata": {
        "id": "cxexfKiDo0Zm"
      },
      "execution_count": null,
      "outputs": []
    },
    {
      "cell_type": "code",
      "source": [
        "# mushroom pasta stir fry\n",
        "# https://cooking.nytimes.com/recipes/1022121-mushroom-pasta-stir-fry\n",
        "\n",
        "list_mushroom_pasta_stir_fry = [\n",
        "    'pasta'\n",
        "    , 'mushrooms'\n",
        "    , 'olive oil or vegetable oil'\n",
        "    , 'salt'\n",
        "    , 'pepper'\n",
        "    , 'five spice'\n",
        "    , 'garlic'\n",
        "    , 'oyster sauce'\n",
        "    , 'maple syrup'\n",
        "    , 'chile oil or chili crisp'\n",
        "    , 'brown sugar'\n",
        "    , 'soy sauce'\n",
        "    , 'broccolini or broccoli'\n",
        "    , 'butter'\n",
        "    , 'scallions'\n",
        "]"
      ],
      "metadata": {
        "id": "Kd4CU1J3UnNW"
      },
      "execution_count": null,
      "outputs": []
    },
    {
      "cell_type": "code",
      "source": [
        "# linguine shrimp pasta\n",
        "# https://www.lecreuset.ca/en_CA/linguine-with-herbed-shrimps-in-a-fresh-tomato-garlic-sauce/LCRCA-0207.html\n",
        "# good for summer\n",
        "\n",
        "list_linguine_shrimp_pasta = [\n",
        "    'linguine'\n",
        "    , 'shrimp'\n",
        "    , 'roma tomatoes'\n",
        "    , 'basil'\n",
        "    , 'garlic'\n",
        "    , 'olive oil'\n",
        "    , 'salt'\n",
        "    , 'pepper'\n",
        "    , 'butter'\n",
        "    , 'parsley'\n",
        "]\n",
        "\n",
        "# not bad; did it without shrimp\n",
        "# pretty easy; not hot; good for summer\n",
        "# do it with good tomatoes next time; maddie not a fan of warm/hot tomatoes"
      ],
      "metadata": {
        "id": "HR0Ofdbs-9B1"
      },
      "execution_count": null,
      "outputs": []
    },
    {
      "cell_type": "code",
      "source": [
        "# rosemary olive bread\n",
        "# https://www.lecreuset.ca/en_CA/olive-rosemary-no-knead-bread/LCRCA-0030.html\n",
        "# requires overnight; good for friday night start\n"
      ],
      "metadata": {
        "id": "PTKJA5BO-Met"
      },
      "execution_count": null,
      "outputs": []
    },
    {
      "cell_type": "code",
      "source": [
        "# short rib ragu\n",
        "# https://www.foodandwine.com/recipes/short-rib-ragu-with-orange-parsley-gremolata\n",
        "# good for winter"
      ],
      "metadata": {
        "id": "4NRWiEzu8Z1U"
      },
      "execution_count": null,
      "outputs": []
    },
    {
      "cell_type": "code",
      "source": [
        "# BLT, marinade tomatoes\n",
        "# https://www.howsweeteats.com/2021/08/marinated-tomato-blts/\n",
        "# will want good bread\n",
        "\n",
        "list_blt_sandwiches = [\n",
        "    'good bread'\n",
        "    , 'bacon'\n",
        "    , 'tomato'\n",
        "    , 'olive oil'\n",
        "    , 'balsamic vinegar'\n",
        "    , 'lettuce'\n",
        "    , 'mayo'\n",
        "    , 'salt'\n",
        "    , 'pepper'\n",
        "    , 'avocado'\n",
        "]"
      ],
      "metadata": {
        "id": "PGph2t1x30g-"
      },
      "execution_count": null,
      "outputs": []
    },
    {
      "cell_type": "code",
      "source": [
        "list_chicken_breast = [\n",
        "    'chicken breasts'\n",
        "    , 'olive oil'\n",
        "    , 'salt'\n",
        "    , 'pepper'\n",
        "    , 'lettuce'\n",
        "    , 'avocado'\n",
        "    , 'mango'\n",
        "    , 'red pepper'\n",
        "    , 'lettuce'\n",
        "    , 'good bread'\n",
        "]"
      ],
      "metadata": {
        "id": "H6hgmkUELgA4"
      },
      "execution_count": null,
      "outputs": []
    },
    {
      "cell_type": "code",
      "source": [
        "list_sloppy_joes = [\n",
        "    'buns'\n",
        "    , 'ground beef'\n",
        "    , 'ketchup'\n",
        "    , 'mustard'\n",
        "    , 'onion'\n",
        "    , 'yellow and red bell peppers'\n",
        "    , 'garlic'\n",
        "    , 'tomato sauce'\n",
        "    , 'brown sugar'\n",
        "    , 'worcestershire sauce'\n",
        "    , 'ears of corn'\n",
        "    , 'broccoli'\n",
        "    , 'salt'\n",
        "    , 'pepper'\n",
        "    , 'butter'\n",
        "]\n",
        "\n",
        "# Maddie not a fan of this; corn from Trader Joe's not flavorful"
      ],
      "metadata": {
        "id": "qle_ELAr3Aee"
      },
      "execution_count": null,
      "outputs": []
    },
    {
      "cell_type": "code",
      "source": [
        "list_turkey_bowls = [\n",
        "    'brown rice'\n",
        "    , 'ground turkey'\n",
        "    , 'taco mix'\n",
        "    , 'olive oil'\n",
        "    , 'black or pinto beans'\n",
        "    , 'lettuce'\n",
        "    , 'tomato'\n",
        "    , 'onion'\n",
        "    , 'jalapeno'\n",
        "    , 'lemon juice'\n",
        "    , 'salt'\n",
        "    , 'pepper'\n",
        "    , 'canned corn'\n",
        "    , 'avocado'\n",
        "    , 'plain yogurt or sour cream'\n",
        "    , 'salsa'\n",
        "    , 'shredded cheese'\n",
        "]\n",
        "\n",
        "# avocado, mango, red pepper salsa -- lemon juice, olive oil, salt, pepper\n",
        "# no tomato; was good; could also do this as a standalone salsa with chips"
      ],
      "metadata": {
        "id": "7jvQOIgT1Fku"
      },
      "execution_count": null,
      "outputs": []
    },
    {
      "cell_type": "code",
      "source": [
        "list_fish_tacos = [\n",
        "    'white fish'\n",
        "    , 'tortillas'\n",
        "    , 'shredded cheese'\n",
        "    , 'cilantro'\n",
        "    , 'avocado'\n",
        "    , 'olive oil'\n",
        "    , 'lemon or lime juice'\n",
        "    , 'mango'\n",
        "    , 'jalapeno'\n",
        "]"
      ],
      "metadata": {
        "id": "rjRI7SbMz_LR"
      },
      "execution_count": null,
      "outputs": []
    },
    {
      "cell_type": "code",
      "source": [
        "list_mac_and_cheese = [\n",
        "    'butter'\n",
        "    , 'flour'\n",
        "    , 'milk'\n",
        "    , 'shredded cheddar cheese'\n",
        "    , 'salt'\n",
        "    , 'pepper'\n",
        "    , 'mustard'\n",
        "    , 'nutmeg'\n",
        "    , 'pasta'\n",
        "    , 'broccoli'\n",
        "]"
      ],
      "metadata": {
        "id": "ckl-kFkZyxU4"
      },
      "execution_count": null,
      "outputs": []
    },
    {
      "cell_type": "code",
      "source": [
        "list_one_pot_creamy_turkey_rigatoni = [\n",
        "    'olive oil'\n",
        "    , 'onion'\n",
        "    , 'garlic'\n",
        "    , 'ground turkey'\n",
        "    , 'rosemary'\n",
        "    , 'salt'\n",
        "    , 'italian seasoning'\n",
        "    , 'black pepper'\n",
        "    , 'rigatoni or other pasta'\n",
        "    , 'chicken broth'\n",
        "    , 'milk'\n",
        "    , 'tomato sauce'\n",
        "    , 'spinach'\n",
        "    , 'cheese'\n",
        "]\n",
        "\n",
        "# https://broccyourbody.com/one-pot-creamy-turkey-rigatoni/\n",
        "# not bad, but maddie not a fan\n",
        "# try in dutch oven; everyday pan a bit crowded"
      ],
      "metadata": {
        "id": "Aq8PwZ5ziDW6"
      },
      "execution_count": null,
      "outputs": []
    },
    {
      "cell_type": "code",
      "source": [
        "# list_pizza_from_work_bldg_22\n",
        "# Approx $6 after tax per pizza"
      ],
      "metadata": {
        "id": "fcVBp9IeVn7p"
      },
      "execution_count": null,
      "outputs": []
    },
    {
      "cell_type": "code",
      "source": [
        "list_summer_mint_pasta = [\n",
        "    'pasta'\n",
        "    , 'cherry or grape tomatoes'\n",
        "    , 'garlic'\n",
        "    , 'butter'\n",
        "    , 'salt'\n",
        "    , 'pepper'\n",
        "    , 'mint'\n",
        "    , 'green onion or scallions'\n",
        "    , 'ricotta cheese'\n",
        "    , 'mozzarella cheese ball, not shredded'\n",
        "]"
      ],
      "metadata": {
        "id": "ddxvMW9X4O77"
      },
      "execution_count": null,
      "outputs": []
    },
    {
      "cell_type": "code",
      "source": [
        "list_fish = [\n",
        "    'fish'\n",
        "    , 'olive oil'\n",
        "    , 'salt'\n",
        "    , 'pepper'\n",
        "    , 'brown rice or pasta'\n",
        "    , 'green veggie'\n",
        "]\n",
        "\n",
        "# don't roast broccoli for so long\n",
        "# have a meat thermometer, so don't need to guess temperature and overcook"
      ],
      "metadata": {
        "id": "HxzWJ3oU30Y5"
      },
      "execution_count": null,
      "outputs": []
    },
    {
      "cell_type": "code",
      "source": [
        "list_risotto = [\n",
        "    'arborio rice'\n",
        "    , 'mushrooms'\n",
        "    , 'onion'\n",
        "    , 'olive oil'\n",
        "    , 'chicken stock'\n",
        "    , 'parmesan cheese'\n",
        "    , 'white wine'\n",
        "    , 'butter'\n",
        "    , 'parsley'\n",
        "]\n",
        "\n",
        "# not good for a weekday; high effort"
      ],
      "metadata": {
        "id": "tzdxeJse9YOy"
      },
      "execution_count": null,
      "outputs": []
    },
    {
      "cell_type": "code",
      "source": [
        "list_one_pan_lasagna = [\n",
        "    'onion'\n",
        "    , 'ground beef'\n",
        "    , 'salt'\n",
        "    , 'pepper'\n",
        "    , 'italian seasoning'\n",
        "    , 'garlic'\n",
        "    , 'tomato paste'\n",
        "    , 'marinara sauce'\n",
        "    , 'chicken stock'\n",
        "    , 'lasagna noodles' # one box has ~18 noodles; can get 2 \"cooks\" thru recipe with one box\n",
        "    , 'basil'\n",
        "    , 'ricotta cheese'\n",
        "    , 'mozzarella cheese'\n",
        "]\n",
        "\n",
        "# haven't tried this yet; seems like it could be easy\n",
        "# was a hit, pretty easy"
      ],
      "metadata": {
        "id": "gvspuP_W9E6C"
      },
      "execution_count": null,
      "outputs": []
    },
    {
      "cell_type": "code",
      "source": [
        "list_one_pan_chicken_and_orzo = [\n",
        "    'boneless and skinless chicken thighs'\n",
        "    , 'salt'\n",
        "    , 'pepper'\n",
        "    , 'olive oil'\n",
        "    , 'paprika'\n",
        "    , 'butter'\n",
        "    , 'onion'\n",
        "    , 'orzo'\n",
        "    , 'lemon juice'\n",
        "    , 'garlic'\n",
        "    , 'chicken broth'\n",
        "    , 'lemon'\n",
        "]\n",
        "\n",
        "# haven't tried this yet; seems like it could be easy\n",
        "# requires baking in oven; better for when it's cold\n",
        "# coconut milk optional; would be better with something creamy; another reason better when it's cold"
      ],
      "metadata": {
        "id": "61EkLbsZ8rut"
      },
      "execution_count": null,
      "outputs": []
    },
    {
      "cell_type": "code",
      "source": [
        "list_red_beans_sausage_rice = [\n",
        "    'brown rice'\n",
        "    , 'sausage'\n",
        "    , 'mirepoix'\n",
        "    , 'red beans'\n",
        "    , 'olive oil'\n",
        "]\n",
        "\n",
        "# requires brown rice to be made ahead of time, which takes ~90 min\n",
        "# kate not a fan"
      ],
      "metadata": {
        "id": "eqRybgo88S6J"
      },
      "execution_count": null,
      "outputs": []
    },
    {
      "cell_type": "code",
      "source": [
        "list_tacos = [\n",
        "  'tortillas'\n",
        "  , 'ground beef'\n",
        "  , 'taco mix'\n",
        "  , 'black beans'\n",
        "  , 'lettuce'\n",
        "  , 'tomato'\n",
        "  , 'avocado'\n",
        "  , 'salsa'\n",
        "  , 'sour cream'\n",
        "  , 'shredded cheese'\n",
        "]\n",
        "\n",
        "# maddie likes this"
      ],
      "metadata": {
        "id": "74mOztrS74iD"
      },
      "execution_count": null,
      "outputs": []
    },
    {
      "cell_type": "code",
      "source": [
        "list_quesadillas = [\n",
        "    'tortillas'\n",
        "    , 'shredded_cheese'\n",
        "    , 'spinach'\n",
        "    , 'mushrooms'\n",
        "    , 'tomatoes'\n",
        "    , 'sour cream'\n",
        "    , 'salsa'\n",
        "    , 'avocado'\n",
        "]"
      ],
      "metadata": {
        "id": "1nBZOWPa74Db"
      },
      "execution_count": null,
      "outputs": []
    },
    {
      "cell_type": "code",
      "source": [
        "list_breakfast_meets_dinner_bowls = [\n",
        "  'brown rice'\n",
        "  , 'black beans'\n",
        "  , 'taco mix'\n",
        "  , 'eggs'\n",
        "  , 'kale'\n",
        "  , 'tomatoes'\n",
        "  , 'cheese'\n",
        "  , 'avocado'\n",
        "  , 'jalapeno'\n",
        "  , 'lemon juice'\n",
        "  , 'olive oil'\n",
        "  , 'salt'\n",
        "  , 'pepper'\n",
        "]"
      ],
      "metadata": {
        "id": "bCE3dyhk7xjU"
      },
      "execution_count": null,
      "outputs": []
    },
    {
      "cell_type": "code",
      "source": [
        "list_turkey_meatballs = [\n",
        "  'pasta'\n",
        "  , 'pasta sauce'\n",
        "  , 'ground turkey'\n",
        "  , 'egg'\n",
        "  , 'parsley'\n",
        "  , 'almond or oat meal'\n",
        "  , 'shredded cheese'\n",
        "  , 'garlic powder'\n",
        "  , 'olive oil'\n",
        "  , 'salt'\n",
        "  , 'pepper'\n",
        "  , 'green vegetable'\n",
        "]"
      ],
      "metadata": {
        "id": "SL_m6O_j7ixz"
      },
      "execution_count": null,
      "outputs": []
    },
    {
      "cell_type": "code",
      "source": [
        "list_bolognese_pasta = [\n",
        "  'pasta'\n",
        "  , 'pasta sauce'\n",
        "  , 'ground beef'\n",
        "  , 'mirepoix'\n",
        "  , 'green vegetable'\n",
        "  , 'salt'\n",
        "  , 'pepper'\n",
        "]"
      ],
      "metadata": {
        "id": "ixOgUwdu71pL"
      },
      "execution_count": null,
      "outputs": []
    },
    {
      "cell_type": "markdown",
      "source": [
        "## Dictionary of meals"
      ],
      "metadata": {
        "id": "APJObC5C9vmv"
      }
    },
    {
      "cell_type": "code",
      "source": [
        "%whos"
      ],
      "metadata": {
        "colab": {
          "base_uri": "https://localhost:8080/"
        },
        "id": "tTJ3ij8X9jJe",
        "outputId": "d41e5a30-5961-49dc-9c12-78a7dcdc0fe7"
      },
      "execution_count": null,
      "outputs": [
        {
          "output_type": "stream",
          "name": "stdout",
          "text": [
            "Variable                                       Type        Data/Info\n",
            "--------------------------------------------------------------------\n",
            "Credentials                                    ABCMeta     <class 'google.oauth2.ser<...>ice_account.Credentials'>\n",
            "all_meal_names                                 list        n=34\n",
            "auth                                           module      <module 'google.colab.aut<...>es/google/colab/auth.py'>\n",
            "default                                        function    <function default at 0x79f0fe9faa70>\n",
            "dict_meals                                     dict        n=34\n",
            "gspread                                        module      <module 'gspread' from '/<...>ges/gspread/__init__.py'>\n",
            "list_baked_chicken_thighs                      list        n=10\n",
            "list_blt_sandwiches                            list        n=10\n",
            "list_bolognese_pasta                           list        n=7\n",
            "list_breakfast_meets_dinner_bowls              list        n=13\n",
            "list_butternut_squash_pasta                    list        n=13\n",
            "list_chicken_breast                            list        n=10\n",
            "list_extra_green_pasta_salad                   list        n=10\n",
            "list_fish                                      list        n=6\n",
            "list_fish_tacos                                list        n=9\n",
            "list_honey_glazed_mushroom_udon                list        n=12\n",
            "list_hummus                                    list        n=10\n",
            "list_lamb_burgers                              list        n=17\n",
            "list_linguine_shrimp_pasta                     list        n=10\n",
            "list_mac_and_cheese                            list        n=10\n",
            "list_mushroom_pasta_stir_fry                   list        n=15\n",
            "list_one_pan_chicken_and_orzo                  list        n=12\n",
            "list_one_pan_lasagna                           list        n=13\n",
            "list_one_post_pasta_with_ricotta_and_lemon     list        n=10\n",
            "list_one_pot_creamy_turkey_rigatoni            list        n=14\n",
            "list_other                                     list        n=6\n",
            "list_pearl_couscous_salad                      list        n=12\n",
            "list_pesto_beans                               list        n=14\n",
            "list_quesadillas                               list        n=8\n",
            "list_red_beans_sausage_rice                    list        n=5\n",
            "list_risotto                                   list        n=9\n",
            "list_sausage_and_peppers_pasta_with_broccoli   list        n=10\n",
            "list_sesame_noodles_corn_cucumber_basil        list        n=9\n",
            "list_sheet_pan_feta                            list        n=11\n",
            "list_skillet_chicken_tomatoes                  list        n=10\n",
            "list_sloppy_joes                               list        n=15\n",
            "list_slow_cooker_red_beans_rice                list        n=19\n",
            "list_summer_mint_pasta                         list        n=10\n",
            "list_tacos                                     list        n=10\n",
            "list_turkey_bowls                              list        n=17\n",
            "list_turkey_chili                              list        n=19\n",
            "list_turkey_meatballs                          list        n=12\n",
            "pd                                             module      <module 'pandas' from '/u<...>ages/pandas/__init__.py'>\n",
            "random                                         module      <module 'random' from '/u<...>ib/python3.10/random.py'>\n"
          ]
        }
      ]
    },
    {
      "cell_type": "code",
      "source": [
        "dict_meals = {\n",
        "    'slow_cooker_red_beans_rice' : list_slow_cooker_red_beans_rice\n",
        "    # add additional meals to top here\n",
        "    , 'sheet_pan_feta' : list_sheet_pan_feta\n",
        "    , 'baked_chicken_thighs': list_baked_chicken_thighs\n",
        "    , 'turkey_chili' : list_turkey_chili\n",
        "    , 'skillet_chicken_tomatoes' : list_skillet_chicken_tomatoes\n",
        "    , 'butternut_squash_pasta' : list_butternut_squash_pasta\n",
        "    , 'hummus' : list_hummus\n",
        "    , 'one_pot_pasta_with_ricotta_and_lemon' : list_one_post_pasta_with_ricotta_and_lemon\n",
        "    , 'pesto_beans' : list_pesto_beans\n",
        "    , 'sesame_noodles_corn_cucumber_basil': list_sesame_noodles_corn_cucumber_basil\n",
        "    , 'pearl_couscous_salad': list_pearl_couscous_salad\n",
        "    , 'lamb_burgers': list_lamb_burgers\n",
        "    , 'honey_glazed_mushroom_udon' : list_honey_glazed_mushroom_udon\n",
        "    , 'extra_green_pasta_salad' : list_extra_green_pasta_salad # have with chicken breast\n",
        "    , 'sausage_and_peppers_pasta_with_broccoli' : list_sausage_and_peppers_pasta_with_broccoli\n",
        "    , 'mushroom_pasta_stir_fry' : list_mushroom_pasta_stir_fry\n",
        "    , 'linguine_shrimp_pasta' : list_linguine_shrimp_pasta\n",
        "    , 'blt_sandwiches' : list_blt_sandwiches\n",
        "    , 'chicken_breast' : list_chicken_breast\n",
        "    , 'sloppy_joes' : list_sloppy_joes\n",
        "    , 'turkey_bowls' : list_turkey_bowls\n",
        "    , 'fish_tacos' : list_fish_tacos\n",
        "    , 'mac_and_cheese' : list_mac_and_cheese\n",
        "    , 'one_pot_creamy_turkey_rigatoni' : list_one_pot_creamy_turkey_rigatoni\n",
        "    , 'summer_mint_pasta' : list_summer_mint_pasta\n",
        "    , 'fish': list_fish\n",
        "    , 'risotto' : list_risotto\n",
        "    , 'one_pan_lasagna' : list_one_pan_lasagna\n",
        "    , 'one_pan_chicken_and_orzo' : list_one_pan_chicken_and_orzo\n",
        "    , 'red_beans_sausage_rice' : list_red_beans_sausage_rice\n",
        "    , 'tacos' : list_tacos\n",
        "    , 'quesadillas' : list_quesadillas\n",
        "    , 'breakfast_meets_dinner_bowls' : list_breakfast_meets_dinner_bowls\n",
        "    , 'turkey_meatballs' : list_turkey_meatballs\n",
        "    , 'bolognese_pasta' : list_bolognese_pasta\n",
        "}"
      ],
      "metadata": {
        "id": "AQvnPbH49xhz"
      },
      "execution_count": null,
      "outputs": []
    },
    {
      "cell_type": "code",
      "source": [
        "dict_meals.keys()"
      ],
      "metadata": {
        "colab": {
          "base_uri": "https://localhost:8080/"
        },
        "id": "qYqdHQGe_B_8",
        "outputId": "52c9619a-8bc0-406b-c2d0-9b6382b4aee4"
      },
      "execution_count": null,
      "outputs": [
        {
          "output_type": "execute_result",
          "data": {
            "text/plain": [
              "dict_keys(['slow_cooker_red_beans_rice', 'sheet_pan_feta', 'baked_chicken_thighs', 'turkey_chili', 'skillet_chicken_tomatoes', 'butternut_squash_pasta', 'hummus', 'one_pot_pasta_with_ricotta_and_lemon', 'pesto_beans', 'sesame_noodles_corn_cucumber_basil', 'pearl_couscous_salad', 'lamb_burgers', 'honey_glazed_mushroom_udon', 'extra_green_pasta_salad', 'sausage_and_peppers_pasta_with_broccoli', 'mushroom_pasta_stir_fry', 'linguine_shrimp_pasta', 'blt_sandwiches', 'chicken_breast', 'sloppy_joes', 'turkey_bowls', 'fish_tacos', 'mac_and_cheese', 'one_pot_creamy_turkey_rigatoni', 'summer_mint_pasta', 'fish', 'risotto', 'one_pan_lasagna', 'one_pan_chicken_and_orzo', 'red_beans_sausage_rice', 'tacos', 'quesadillas', 'breakfast_meets_dinner_bowls', 'turkey_meatballs', 'bolognese_pasta'])"
            ]
          },
          "metadata": {},
          "execution_count": 47
        }
      ]
    },
    {
      "cell_type": "markdown",
      "source": [
        "## (Randomly) select meals"
      ],
      "metadata": {
        "id": "SQojLzh5-bNO"
      }
    },
    {
      "cell_type": "code",
      "source": [
        "# name of all meals (keys) as a list\n",
        "all_meal_names = list(dict_meals.keys())\n",
        "all_meal_names"
      ],
      "metadata": {
        "colab": {
          "base_uri": "https://localhost:8080/"
        },
        "id": "tCxSbWZb3XiK",
        "outputId": "3159d19c-0439-49f2-e6bf-6a1c297b9ead"
      },
      "execution_count": null,
      "outputs": [
        {
          "output_type": "execute_result",
          "data": {
            "text/plain": [
              "['slow_cooker_red_beans_rice',\n",
              " 'sheet_pan_feta',\n",
              " 'baked_chicken_thighs',\n",
              " 'turkey_chili',\n",
              " 'skillet_chicken_tomatoes',\n",
              " 'butternut_squash_pasta',\n",
              " 'hummus',\n",
              " 'one_pot_pasta_with_ricotta_and_lemon',\n",
              " 'pesto_beans',\n",
              " 'sesame_noodles_corn_cucumber_basil',\n",
              " 'pearl_couscous_salad',\n",
              " 'lamb_burgers',\n",
              " 'honey_glazed_mushroom_udon',\n",
              " 'extra_green_pasta_salad',\n",
              " 'sausage_and_peppers_pasta_with_broccoli',\n",
              " 'mushroom_pasta_stir_fry',\n",
              " 'linguine_shrimp_pasta',\n",
              " 'blt_sandwiches',\n",
              " 'chicken_breast',\n",
              " 'sloppy_joes',\n",
              " 'turkey_bowls',\n",
              " 'fish_tacos',\n",
              " 'mac_and_cheese',\n",
              " 'one_pot_creamy_turkey_rigatoni',\n",
              " 'summer_mint_pasta',\n",
              " 'fish',\n",
              " 'risotto',\n",
              " 'one_pan_lasagna',\n",
              " 'one_pan_chicken_and_orzo',\n",
              " 'red_beans_sausage_rice',\n",
              " 'tacos',\n",
              " 'quesadillas',\n",
              " 'breakfast_meets_dinner_bowls',\n",
              " 'turkey_meatballs',\n",
              " 'bolognese_pasta']"
            ]
          },
          "metadata": {},
          "execution_count": 48
        }
      ]
    },
    {
      "cell_type": "code",
      "source": [
        "# Fri, Sun, Mon\n",
        "# Sat - restaurant, Glowfar\n",
        "\n",
        "# manually selected meals\n",
        "manually_selected_meals = [\n",
        "    'baked_chicken_thighs'                     # 1\n",
        "    , 'tacos'          # 2\n",
        "    , 'pesto_beans'          # 3\n",
        "    , 'sheet_pan_feta' # 4\n",
        "    , 'chicken_breast' # 5\n",
        "    , 'slow_cooker_red_beans_rice' # 6\n",
        "\n",
        "    # 7 kate gets to pick and execute\n",
        "]\n",
        "\n",
        "manually_selected_meals\n"
      ],
      "metadata": {
        "colab": {
          "base_uri": "https://localhost:8080/"
        },
        "id": "uSeh4Tt03b6t",
        "outputId": "e4b39547-c6cd-40e6-fc7c-b33c14c7d143"
      },
      "execution_count": null,
      "outputs": [
        {
          "output_type": "execute_result",
          "data": {
            "text/plain": [
              "['baked_chicken_thighs',\n",
              " 'tacos',\n",
              " 'pesto_beans',\n",
              " 'sheet_pan_feta',\n",
              " 'chicken_breast',\n",
              " 'slow_cooker_red_beans_rice']"
            ]
          },
          "metadata": {},
          "execution_count": 49
        }
      ]
    },
    {
      "cell_type": "code",
      "source": [
        "# number of meals desired\n",
        "#number_of_meals = 5\n",
        "\n",
        "# name of all meals (keys) as a list\n",
        "#all_meal_names = list(dict_meals.keys())\n",
        "\n",
        "# randomly sample\n",
        "#selected_meals = random.sample(all_meal_names, number_of_meals)\n",
        "#selected_meals =\n",
        "\n",
        "# dictionary of selected meals\n",
        "#selected_meals = {meal: dict_meals[meal] for meal in selected_meals}\n",
        "selected_meals = {meal: dict_meals[meal] for meal in manually_selected_meals}\n",
        "\n",
        "\n",
        "# to pandas dataframe\n",
        "df_selected_meals = pd.DataFrame(list(selected_meals.items()), columns = ['meal', 'ingredients'])\n",
        "df_selected_meals = df_selected_meals.explode('ingredients').reset_index(drop = True)"
      ],
      "metadata": {
        "id": "1ewWS9S3-VFm"
      },
      "execution_count": null,
      "outputs": []
    },
    {
      "cell_type": "markdown",
      "source": [
        "## Add rows for 'other'"
      ],
      "metadata": {
        "id": "A4TR6WZ6_WIA"
      }
    },
    {
      "cell_type": "code",
      "source": [
        "df_needed = (\n",
        "\n",
        "  # add rows\n",
        "  pd.concat(\n",
        "    [\n",
        "      df_selected_meals\n",
        "      , pd.DataFrame(list_other, columns = ['ingredients'])\n",
        "    ]\n",
        "    , ignore_index = True\n",
        "  )\n",
        "\n",
        "  # replace NaN with 'Other'\n",
        "  .fillna(value = 'Other')\n",
        ")"
      ],
      "metadata": {
        "id": "A8ve1wf3-kDq"
      },
      "execution_count": null,
      "outputs": []
    },
    {
      "cell_type": "markdown",
      "source": [
        "## Examine dataframe"
      ],
      "metadata": {
        "id": "HtUqNsgo57KZ"
      }
    },
    {
      "cell_type": "code",
      "source": [
        "df_needed"
      ],
      "metadata": {
        "colab": {
          "base_uri": "https://localhost:8080/",
          "height": 424
        },
        "id": "anGW7zU654A-",
        "outputId": "0a2d34b7-437c-4c1a-dd5f-524ff9f48f6c"
      },
      "execution_count": null,
      "outputs": [
        {
          "output_type": "execute_result",
          "data": {
            "text/plain": [
              "                    meal              ingredients\n",
              "0   baked_chicken_thighs                olive oil\n",
              "1   baked_chicken_thighs                   garlic\n",
              "2   baked_chicken_thighs           chicken thighs\n",
              "3   baked_chicken_thighs            dijon mustard\n",
              "4   baked_chicken_thighs  oregano/green seasoning\n",
              "..                   ...                      ...\n",
              "75                 Other                     eggs\n",
              "76                 Other                    fruit\n",
              "77                 Other                   bagels\n",
              "78                 Other             cream cheese\n",
              "79                 Other                   yogurt\n",
              "\n",
              "[80 rows x 2 columns]"
            ],
            "text/html": [
              "\n",
              "  <div id=\"df-226fc4e8-df10-4ec9-83d3-1dd94710583f\" class=\"colab-df-container\">\n",
              "    <div>\n",
              "<style scoped>\n",
              "    .dataframe tbody tr th:only-of-type {\n",
              "        vertical-align: middle;\n",
              "    }\n",
              "\n",
              "    .dataframe tbody tr th {\n",
              "        vertical-align: top;\n",
              "    }\n",
              "\n",
              "    .dataframe thead th {\n",
              "        text-align: right;\n",
              "    }\n",
              "</style>\n",
              "<table border=\"1\" class=\"dataframe\">\n",
              "  <thead>\n",
              "    <tr style=\"text-align: right;\">\n",
              "      <th></th>\n",
              "      <th>meal</th>\n",
              "      <th>ingredients</th>\n",
              "    </tr>\n",
              "  </thead>\n",
              "  <tbody>\n",
              "    <tr>\n",
              "      <th>0</th>\n",
              "      <td>baked_chicken_thighs</td>\n",
              "      <td>olive oil</td>\n",
              "    </tr>\n",
              "    <tr>\n",
              "      <th>1</th>\n",
              "      <td>baked_chicken_thighs</td>\n",
              "      <td>garlic</td>\n",
              "    </tr>\n",
              "    <tr>\n",
              "      <th>2</th>\n",
              "      <td>baked_chicken_thighs</td>\n",
              "      <td>chicken thighs</td>\n",
              "    </tr>\n",
              "    <tr>\n",
              "      <th>3</th>\n",
              "      <td>baked_chicken_thighs</td>\n",
              "      <td>dijon mustard</td>\n",
              "    </tr>\n",
              "    <tr>\n",
              "      <th>4</th>\n",
              "      <td>baked_chicken_thighs</td>\n",
              "      <td>oregano/green seasoning</td>\n",
              "    </tr>\n",
              "    <tr>\n",
              "      <th>...</th>\n",
              "      <td>...</td>\n",
              "      <td>...</td>\n",
              "    </tr>\n",
              "    <tr>\n",
              "      <th>75</th>\n",
              "      <td>Other</td>\n",
              "      <td>eggs</td>\n",
              "    </tr>\n",
              "    <tr>\n",
              "      <th>76</th>\n",
              "      <td>Other</td>\n",
              "      <td>fruit</td>\n",
              "    </tr>\n",
              "    <tr>\n",
              "      <th>77</th>\n",
              "      <td>Other</td>\n",
              "      <td>bagels</td>\n",
              "    </tr>\n",
              "    <tr>\n",
              "      <th>78</th>\n",
              "      <td>Other</td>\n",
              "      <td>cream cheese</td>\n",
              "    </tr>\n",
              "    <tr>\n",
              "      <th>79</th>\n",
              "      <td>Other</td>\n",
              "      <td>yogurt</td>\n",
              "    </tr>\n",
              "  </tbody>\n",
              "</table>\n",
              "<p>80 rows × 2 columns</p>\n",
              "</div>\n",
              "    <div class=\"colab-df-buttons\">\n",
              "\n",
              "  <div class=\"colab-df-container\">\n",
              "    <button class=\"colab-df-convert\" onclick=\"convertToInteractive('df-226fc4e8-df10-4ec9-83d3-1dd94710583f')\"\n",
              "            title=\"Convert this dataframe to an interactive table.\"\n",
              "            style=\"display:none;\">\n",
              "\n",
              "  <svg xmlns=\"http://www.w3.org/2000/svg\" height=\"24px\" viewBox=\"0 -960 960 960\">\n",
              "    <path d=\"M120-120v-720h720v720H120Zm60-500h600v-160H180v160Zm220 220h160v-160H400v160Zm0 220h160v-160H400v160ZM180-400h160v-160H180v160Zm440 0h160v-160H620v160ZM180-180h160v-160H180v160Zm440 0h160v-160H620v160Z\"/>\n",
              "  </svg>\n",
              "    </button>\n",
              "\n",
              "  <style>\n",
              "    .colab-df-container {\n",
              "      display:flex;\n",
              "      gap: 12px;\n",
              "    }\n",
              "\n",
              "    .colab-df-convert {\n",
              "      background-color: #E8F0FE;\n",
              "      border: none;\n",
              "      border-radius: 50%;\n",
              "      cursor: pointer;\n",
              "      display: none;\n",
              "      fill: #1967D2;\n",
              "      height: 32px;\n",
              "      padding: 0 0 0 0;\n",
              "      width: 32px;\n",
              "    }\n",
              "\n",
              "    .colab-df-convert:hover {\n",
              "      background-color: #E2EBFA;\n",
              "      box-shadow: 0px 1px 2px rgba(60, 64, 67, 0.3), 0px 1px 3px 1px rgba(60, 64, 67, 0.15);\n",
              "      fill: #174EA6;\n",
              "    }\n",
              "\n",
              "    .colab-df-buttons div {\n",
              "      margin-bottom: 4px;\n",
              "    }\n",
              "\n",
              "    [theme=dark] .colab-df-convert {\n",
              "      background-color: #3B4455;\n",
              "      fill: #D2E3FC;\n",
              "    }\n",
              "\n",
              "    [theme=dark] .colab-df-convert:hover {\n",
              "      background-color: #434B5C;\n",
              "      box-shadow: 0px 1px 3px 1px rgba(0, 0, 0, 0.15);\n",
              "      filter: drop-shadow(0px 1px 2px rgba(0, 0, 0, 0.3));\n",
              "      fill: #FFFFFF;\n",
              "    }\n",
              "  </style>\n",
              "\n",
              "    <script>\n",
              "      const buttonEl =\n",
              "        document.querySelector('#df-226fc4e8-df10-4ec9-83d3-1dd94710583f button.colab-df-convert');\n",
              "      buttonEl.style.display =\n",
              "        google.colab.kernel.accessAllowed ? 'block' : 'none';\n",
              "\n",
              "      async function convertToInteractive(key) {\n",
              "        const element = document.querySelector('#df-226fc4e8-df10-4ec9-83d3-1dd94710583f');\n",
              "        const dataTable =\n",
              "          await google.colab.kernel.invokeFunction('convertToInteractive',\n",
              "                                                    [key], {});\n",
              "        if (!dataTable) return;\n",
              "\n",
              "        const docLinkHtml = 'Like what you see? Visit the ' +\n",
              "          '<a target=\"_blank\" href=https://colab.research.google.com/notebooks/data_table.ipynb>data table notebook</a>'\n",
              "          + ' to learn more about interactive tables.';\n",
              "        element.innerHTML = '';\n",
              "        dataTable['output_type'] = 'display_data';\n",
              "        await google.colab.output.renderOutput(dataTable, element);\n",
              "        const docLink = document.createElement('div');\n",
              "        docLink.innerHTML = docLinkHtml;\n",
              "        element.appendChild(docLink);\n",
              "      }\n",
              "    </script>\n",
              "  </div>\n",
              "\n",
              "\n",
              "<div id=\"df-e5000c9d-86a0-41f8-873d-7837054a2500\">\n",
              "  <button class=\"colab-df-quickchart\" onclick=\"quickchart('df-e5000c9d-86a0-41f8-873d-7837054a2500')\"\n",
              "            title=\"Suggest charts\"\n",
              "            style=\"display:none;\">\n",
              "\n",
              "<svg xmlns=\"http://www.w3.org/2000/svg\" height=\"24px\"viewBox=\"0 0 24 24\"\n",
              "     width=\"24px\">\n",
              "    <g>\n",
              "        <path d=\"M19 3H5c-1.1 0-2 .9-2 2v14c0 1.1.9 2 2 2h14c1.1 0 2-.9 2-2V5c0-1.1-.9-2-2-2zM9 17H7v-7h2v7zm4 0h-2V7h2v10zm4 0h-2v-4h2v4z\"/>\n",
              "    </g>\n",
              "</svg>\n",
              "  </button>\n",
              "\n",
              "<style>\n",
              "  .colab-df-quickchart {\n",
              "      --bg-color: #E8F0FE;\n",
              "      --fill-color: #1967D2;\n",
              "      --hover-bg-color: #E2EBFA;\n",
              "      --hover-fill-color: #174EA6;\n",
              "      --disabled-fill-color: #AAA;\n",
              "      --disabled-bg-color: #DDD;\n",
              "  }\n",
              "\n",
              "  [theme=dark] .colab-df-quickchart {\n",
              "      --bg-color: #3B4455;\n",
              "      --fill-color: #D2E3FC;\n",
              "      --hover-bg-color: #434B5C;\n",
              "      --hover-fill-color: #FFFFFF;\n",
              "      --disabled-bg-color: #3B4455;\n",
              "      --disabled-fill-color: #666;\n",
              "  }\n",
              "\n",
              "  .colab-df-quickchart {\n",
              "    background-color: var(--bg-color);\n",
              "    border: none;\n",
              "    border-radius: 50%;\n",
              "    cursor: pointer;\n",
              "    display: none;\n",
              "    fill: var(--fill-color);\n",
              "    height: 32px;\n",
              "    padding: 0;\n",
              "    width: 32px;\n",
              "  }\n",
              "\n",
              "  .colab-df-quickchart:hover {\n",
              "    background-color: var(--hover-bg-color);\n",
              "    box-shadow: 0 1px 2px rgba(60, 64, 67, 0.3), 0 1px 3px 1px rgba(60, 64, 67, 0.15);\n",
              "    fill: var(--button-hover-fill-color);\n",
              "  }\n",
              "\n",
              "  .colab-df-quickchart-complete:disabled,\n",
              "  .colab-df-quickchart-complete:disabled:hover {\n",
              "    background-color: var(--disabled-bg-color);\n",
              "    fill: var(--disabled-fill-color);\n",
              "    box-shadow: none;\n",
              "  }\n",
              "\n",
              "  .colab-df-spinner {\n",
              "    border: 2px solid var(--fill-color);\n",
              "    border-color: transparent;\n",
              "    border-bottom-color: var(--fill-color);\n",
              "    animation:\n",
              "      spin 1s steps(1) infinite;\n",
              "  }\n",
              "\n",
              "  @keyframes spin {\n",
              "    0% {\n",
              "      border-color: transparent;\n",
              "      border-bottom-color: var(--fill-color);\n",
              "      border-left-color: var(--fill-color);\n",
              "    }\n",
              "    20% {\n",
              "      border-color: transparent;\n",
              "      border-left-color: var(--fill-color);\n",
              "      border-top-color: var(--fill-color);\n",
              "    }\n",
              "    30% {\n",
              "      border-color: transparent;\n",
              "      border-left-color: var(--fill-color);\n",
              "      border-top-color: var(--fill-color);\n",
              "      border-right-color: var(--fill-color);\n",
              "    }\n",
              "    40% {\n",
              "      border-color: transparent;\n",
              "      border-right-color: var(--fill-color);\n",
              "      border-top-color: var(--fill-color);\n",
              "    }\n",
              "    60% {\n",
              "      border-color: transparent;\n",
              "      border-right-color: var(--fill-color);\n",
              "    }\n",
              "    80% {\n",
              "      border-color: transparent;\n",
              "      border-right-color: var(--fill-color);\n",
              "      border-bottom-color: var(--fill-color);\n",
              "    }\n",
              "    90% {\n",
              "      border-color: transparent;\n",
              "      border-bottom-color: var(--fill-color);\n",
              "    }\n",
              "  }\n",
              "</style>\n",
              "\n",
              "  <script>\n",
              "    async function quickchart(key) {\n",
              "      const quickchartButtonEl =\n",
              "        document.querySelector('#' + key + ' button');\n",
              "      quickchartButtonEl.disabled = true;  // To prevent multiple clicks.\n",
              "      quickchartButtonEl.classList.add('colab-df-spinner');\n",
              "      try {\n",
              "        const charts = await google.colab.kernel.invokeFunction(\n",
              "            'suggestCharts', [key], {});\n",
              "      } catch (error) {\n",
              "        console.error('Error during call to suggestCharts:', error);\n",
              "      }\n",
              "      quickchartButtonEl.classList.remove('colab-df-spinner');\n",
              "      quickchartButtonEl.classList.add('colab-df-quickchart-complete');\n",
              "    }\n",
              "    (() => {\n",
              "      let quickchartButtonEl =\n",
              "        document.querySelector('#df-e5000c9d-86a0-41f8-873d-7837054a2500 button');\n",
              "      quickchartButtonEl.style.display =\n",
              "        google.colab.kernel.accessAllowed ? 'block' : 'none';\n",
              "    })();\n",
              "  </script>\n",
              "</div>\n",
              "\n",
              "  <div id=\"id_7fdf1b7f-f22f-4913-a9c4-6a1c2ca4f6d6\">\n",
              "    <style>\n",
              "      .colab-df-generate {\n",
              "        background-color: #E8F0FE;\n",
              "        border: none;\n",
              "        border-radius: 50%;\n",
              "        cursor: pointer;\n",
              "        display: none;\n",
              "        fill: #1967D2;\n",
              "        height: 32px;\n",
              "        padding: 0 0 0 0;\n",
              "        width: 32px;\n",
              "      }\n",
              "\n",
              "      .colab-df-generate:hover {\n",
              "        background-color: #E2EBFA;\n",
              "        box-shadow: 0px 1px 2px rgba(60, 64, 67, 0.3), 0px 1px 3px 1px rgba(60, 64, 67, 0.15);\n",
              "        fill: #174EA6;\n",
              "      }\n",
              "\n",
              "      [theme=dark] .colab-df-generate {\n",
              "        background-color: #3B4455;\n",
              "        fill: #D2E3FC;\n",
              "      }\n",
              "\n",
              "      [theme=dark] .colab-df-generate:hover {\n",
              "        background-color: #434B5C;\n",
              "        box-shadow: 0px 1px 3px 1px rgba(0, 0, 0, 0.15);\n",
              "        filter: drop-shadow(0px 1px 2px rgba(0, 0, 0, 0.3));\n",
              "        fill: #FFFFFF;\n",
              "      }\n",
              "    </style>\n",
              "    <button class=\"colab-df-generate\" onclick=\"generateWithVariable('df_needed')\"\n",
              "            title=\"Generate code using this dataframe.\"\n",
              "            style=\"display:none;\">\n",
              "\n",
              "  <svg xmlns=\"http://www.w3.org/2000/svg\" height=\"24px\"viewBox=\"0 0 24 24\"\n",
              "       width=\"24px\">\n",
              "    <path d=\"M7,19H8.4L18.45,9,17,7.55,7,17.6ZM5,21V16.75L18.45,3.32a2,2,0,0,1,2.83,0l1.4,1.43a1.91,1.91,0,0,1,.58,1.4,1.91,1.91,0,0,1-.58,1.4L9.25,21ZM18.45,9,17,7.55Zm-12,3A5.31,5.31,0,0,0,4.9,8.1,5.31,5.31,0,0,0,1,6.5,5.31,5.31,0,0,0,4.9,4.9,5.31,5.31,0,0,0,6.5,1,5.31,5.31,0,0,0,8.1,4.9,5.31,5.31,0,0,0,12,6.5,5.46,5.46,0,0,0,6.5,12Z\"/>\n",
              "  </svg>\n",
              "    </button>\n",
              "    <script>\n",
              "      (() => {\n",
              "      const buttonEl =\n",
              "        document.querySelector('#id_7fdf1b7f-f22f-4913-a9c4-6a1c2ca4f6d6 button.colab-df-generate');\n",
              "      buttonEl.style.display =\n",
              "        google.colab.kernel.accessAllowed ? 'block' : 'none';\n",
              "\n",
              "      buttonEl.onclick = () => {\n",
              "        google.colab.notebook.generateWithVariable('df_needed');\n",
              "      }\n",
              "      })();\n",
              "    </script>\n",
              "  </div>\n",
              "\n",
              "    </div>\n",
              "  </div>\n"
            ],
            "application/vnd.google.colaboratory.intrinsic+json": {
              "type": "dataframe",
              "variable_name": "df_needed",
              "summary": "{\n  \"name\": \"df_needed\",\n  \"rows\": 80,\n  \"fields\": [\n    {\n      \"column\": \"meal\",\n      \"properties\": {\n        \"dtype\": \"category\",\n        \"num_unique_values\": 7,\n        \"samples\": [\n          \"baked_chicken_thighs\",\n          \"tacos\",\n          \"slow_cooker_red_beans_rice\"\n        ],\n        \"semantic_type\": \"\",\n        \"description\": \"\"\n      }\n    },\n    {\n      \"column\": \"ingredients\",\n      \"properties\": {\n        \"dtype\": \"string\",\n        \"num_unique_values\": 62,\n        \"samples\": [\n          \"bay leaves\",\n          \"milk\",\n          \"olive oil\"\n        ],\n        \"semantic_type\": \"\",\n        \"description\": \"\"\n      }\n    }\n  ]\n}"
            }
          },
          "metadata": {},
          "execution_count": 52
        }
      ]
    },
    {
      "cell_type": "markdown",
      "source": [
        "## Write to a Google Sheet"
      ],
      "metadata": {
        "id": "wRmv6hY4AKsT"
      }
    },
    {
      "cell_type": "code",
      "source": [
        "current_date = datetime.today().strftime('%Y-%m-%d')\n",
        "current_date\n",
        "\n",
        "# often made a few days ahead of time..."
      ],
      "metadata": {
        "colab": {
          "base_uri": "https://localhost:8080/",
          "height": 35
        },
        "id": "8Ectx3l2q2Bn",
        "outputId": "a575d035-e952-4670-f6bb-5873f4fe3acd"
      },
      "execution_count": null,
      "outputs": [
        {
          "output_type": "execute_result",
          "data": {
            "text/plain": [
              "'2024-11-24'"
            ],
            "application/vnd.google.colaboratory.intrinsic+json": {
              "type": "string"
            }
          },
          "metadata": {},
          "execution_count": 54
        }
      ]
    },
    {
      "cell_type": "code",
      "source": [
        "# authenticate\n",
        "auth.authenticate_user()\n",
        "creds, _ = default()\n",
        "gc = gspread.authorize(creds)\n",
        "\n",
        "# create workbook\n",
        "workbook = gc.create('Grocery List for 2024-11-30')\n",
        "\n",
        "# create sheet\n",
        "grocery_list = gc.open('Grocery List for 2024-11-30').sheet1\n",
        "\n",
        "# write data\n",
        "grocery_list.update(\n",
        "    'A1'\n",
        "    , [df_needed.columns.values.tolist()] + df_needed.values.tolist()\n",
        ")"
      ],
      "metadata": {
        "colab": {
          "base_uri": "https://localhost:8080/"
        },
        "id": "b145tTm8AJ4O",
        "outputId": "2946d61b-350a-4edc-de96-23e307f3c06a"
      },
      "execution_count": null,
      "outputs": [
        {
          "output_type": "stream",
          "name": "stderr",
          "text": [
            "<ipython-input-55-d62ca527e39e>:13: DeprecationWarning: The order of arguments in worksheet.update() has changed. Please pass values first and range_name secondor used named arguments (range_name=, values=)\n",
            "  grocery_list.update(\n"
          ]
        },
        {
          "output_type": "execute_result",
          "data": {
            "text/plain": [
              "{'spreadsheetId': '1xG8ZV0ziyesXLBp6vvdCmbddeXoy5n4MZnWSH8WVz4Q',\n",
              " 'updatedRange': 'Sheet1!A1:B81',\n",
              " 'updatedRows': 81,\n",
              " 'updatedColumns': 2,\n",
              " 'updatedCells': 162}"
            ]
          },
          "metadata": {},
          "execution_count": 55
        }
      ]
    },
    {
      "cell_type": "markdown",
      "source": [
        "## Next steps\n",
        "* Kate to add in column C of Google Sheet created above drop down menu of do we have it or not\n",
        "* Kate to specify in drop down if we have it or not\n",
        "* Kate to add notes in column D if they'll be helpful\n",
        "* Kate to filter to only items we still need to purchase or items with notes\n"
      ],
      "metadata": {
        "id": "MMHTzx7OBF8_"
      }
    },
    {
      "cell_type": "code",
      "source": [],
      "metadata": {
        "id": "_m7DyKRBAz9u"
      },
      "execution_count": null,
      "outputs": []
    }
  ]
}